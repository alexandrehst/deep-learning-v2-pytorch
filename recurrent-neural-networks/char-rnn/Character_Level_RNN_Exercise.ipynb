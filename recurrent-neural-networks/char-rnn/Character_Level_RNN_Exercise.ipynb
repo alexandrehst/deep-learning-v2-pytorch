{
 "cells": [
  {
   "cell_type": "markdown",
   "metadata": {},
   "source": [
    "# Character-Level LSTM in PyTorch\n",
    "\n",
    "In this notebook, I'll construct a character-level LSTM with PyTorch. The network will train character by character on some text, then generate new text character by character. As an example, I will train on Anna Karenina. **This model will be able to generate new text based on the text from the book!**\n",
    "\n",
    "This network is based off of Andrej Karpathy's [post on RNNs](http://karpathy.github.io/2015/05/21/rnn-effectiveness/) and [implementation in Torch](https://github.com/karpathy/char-rnn). Below is the general architecture of the character-wise RNN.\n",
    "\n",
    "<img src=\"assets/charseq.jpeg\" width=\"500\">"
   ]
  },
  {
   "cell_type": "markdown",
   "metadata": {},
   "source": [
    "First let's load in our required resources for data loading and model creation."
   ]
  },
  {
   "cell_type": "code",
   "execution_count": 1,
   "metadata": {},
   "outputs": [],
   "source": [
    "import numpy as np\n",
    "import torch\n",
    "from torch import nn\n",
    "import torch.nn.functional as F"
   ]
  },
  {
   "cell_type": "markdown",
   "metadata": {},
   "source": [
    "## Load in Data\n",
    "\n",
    "Then, we'll load the Anna Karenina text file and convert it into integers for our network to use. "
   ]
  },
  {
   "cell_type": "code",
   "execution_count": 2,
   "metadata": {},
   "outputs": [],
   "source": [
    "# open text file and read in data as `text`\n",
    "with open('data/anna.txt', 'r') as f:\n",
    "    text = f.read()"
   ]
  },
  {
   "cell_type": "markdown",
   "metadata": {},
   "source": [
    "Let's check out the first 100 characters, make sure everything is peachy. According to the [American Book Review](http://americanbookreview.org/100bestlines.asp), this is the 6th best first line of a book ever."
   ]
  },
  {
   "cell_type": "code",
   "execution_count": 3,
   "metadata": {},
   "outputs": [
    {
     "data": {
      "text/plain": [
       "'Chapter 1\\n\\n\\nHappy families are all alike; every unhappy family is unhappy in its own\\nway.\\n\\nEverythin'"
      ]
     },
     "execution_count": 3,
     "metadata": {},
     "output_type": "execute_result"
    }
   ],
   "source": [
    "text[:100]"
   ]
  },
  {
   "cell_type": "markdown",
   "metadata": {},
   "source": [
    "### Tokenization\n",
    "\n",
    "In the cells, below, I'm creating a couple **dictionaries** to convert the characters to and from integers. Encoding the characters as integers makes it easier to use as input in the network."
   ]
  },
  {
   "cell_type": "code",
   "execution_count": 4,
   "metadata": {},
   "outputs": [],
   "source": [
    "# encode the text and map each character to an integer and vice versa\n",
    "\n",
    "# we create two dictionaries:\n",
    "# 1. int2char, which maps integers to characters\n",
    "# 2. char2int, which maps characters to unique integers\n",
    "chars = tuple(set(text))\n",
    "int2char = dict(enumerate(chars))\n",
    "char2int = {ch: ii for ii, ch in int2char.items()}\n",
    "\n",
    "# encode the text\n",
    "encoded = np.array([char2int[ch] for ch in text])"
   ]
  },
  {
   "cell_type": "markdown",
   "metadata": {},
   "source": [
    "And we can see those same characters from above, encoded as integers."
   ]
  },
  {
   "cell_type": "code",
   "execution_count": 5,
   "metadata": {},
   "outputs": [
    {
     "data": {
      "text/plain": [
       "array([45, 36, 75,  0, 50, 47, 43, 70, 62,  8,  8,  8, 21, 75,  0,  0, 33,\n",
       "       70, 81, 75,  5, 40, 32, 40, 47, 10, 70, 75, 43, 47, 70, 75, 32, 32,\n",
       "       70, 75, 32, 40, 73, 47, 66, 70, 47, 80, 47, 43, 33, 70, 35, 26, 36,\n",
       "       75,  0,  0, 33, 70, 81, 75,  5, 40, 32, 33, 70, 40, 10, 70, 35, 26,\n",
       "       36, 75,  0,  0, 33, 70, 40, 26, 70, 40, 50, 10, 70, 14, 34, 26,  8,\n",
       "       34, 75, 33, 17,  8,  8, 51, 80, 47, 43, 33, 50, 36, 40, 26])"
      ]
     },
     "execution_count": 5,
     "metadata": {},
     "output_type": "execute_result"
    }
   ],
   "source": [
    "encoded[:100]"
   ]
  },
  {
   "cell_type": "markdown",
   "metadata": {},
   "source": [
    "## Pre-processing the data\n",
    "\n",
    "As you can see in our char-RNN image above, our LSTM expects an input that is **one-hot encoded** meaning that each character is converted into an integer (via our created dictionary) and *then* converted into a column vector where only it's corresponding integer index will have the value of 1 and the rest of the vector will be filled with 0's. Since we're one-hot encoding the data, let's make a function to do that!\n"
   ]
  },
  {
   "cell_type": "code",
   "execution_count": 6,
   "metadata": {},
   "outputs": [],
   "source": [
    "def one_hot_encode(arr, n_labels):\n",
    "    \n",
    "    # Initialize the the encoded array\n",
    "    one_hot = np.zeros((arr.size, n_labels), dtype=np.float32)\n",
    "    \n",
    "    # Fill the appropriate elements with ones\n",
    "    one_hot[np.arange(one_hot.shape[0]), arr.flatten()] = 1.\n",
    "    \n",
    "    # Finally reshape it to get back to the original array\n",
    "    one_hot = one_hot.reshape((*arr.shape, n_labels))\n",
    "    \n",
    "    return one_hot"
   ]
  },
  {
   "cell_type": "code",
   "execution_count": 7,
   "metadata": {},
   "outputs": [
    {
     "name": "stdout",
     "output_type": "stream",
     "text": [
      "[[[0. 0. 0. 1. 0. 0. 0. 0.]\n",
      "  [0. 0. 0. 0. 0. 1. 0. 0.]\n",
      "  [0. 1. 0. 0. 0. 0. 0. 0.]]]\n"
     ]
    }
   ],
   "source": [
    "# check that the function works as expected\n",
    "test_seq = np.array([[3, 5, 1]])\n",
    "one_hot = one_hot_encode(test_seq, 8)\n",
    "\n",
    "print(one_hot)"
   ]
  },
  {
   "cell_type": "markdown",
   "metadata": {},
   "source": [
    "## Making training mini-batches\n",
    "\n",
    "\n",
    "To train on this data, we also want to create mini-batches for training. Remember that we want our batches to be multiple sequences of some desired number of sequence steps. Considering a simple example, our batches would look like this:\n",
    "\n",
    "<img src=\"assets/sequence_batching@1x.png\" width=500px>\n",
    "\n",
    "\n",
    "<br>\n",
    "\n",
    "In this example, we'll take the encoded characters (passed in as the `arr` parameter) and split them into multiple sequences, given by `batch_size`. Each of our sequences will be `seq_length` long.\n",
    "\n",
    "### Creating Batches\n",
    "\n",
    "**1. The first thing we need to do is discard some of the text so we only have completely full mini-batches. **\n",
    "\n",
    "Each batch contains $N \\times M$ characters, where $N$ is the batch size (the number of sequences in a batch) and $M$ is the seq_length or number of time steps in a sequence. Then, to get the total number of batches, $K$, that we can make from the array `arr`, you divide the length of `arr` by the number of characters per batch. Once you know the number of batches, you can get the total number of characters to keep from `arr`, $N * M * K$.\n",
    "\n",
    "**2. After that, we need to split `arr` into $N$ batches. ** \n",
    "\n",
    "You can do this using `arr.reshape(size)` where `size` is a tuple containing the dimensions sizes of the reshaped array. We know we want $N$ sequences in a batch, so let's make that the size of the first dimension. For the second dimension, you can use `-1` as a placeholder in the size, it'll fill up the array with the appropriate data for you. After this, you should have an array that is $N \\times (M * K)$.\n",
    "\n",
    "**3. Now that we have this array, we can iterate through it to get our mini-batches. **\n",
    "\n",
    "The idea is each batch is a $N \\times M$ window on the $N \\times (M * K)$ array. For each subsequent batch, the window moves over by `seq_length`. We also want to create both the input and target arrays. Remember that the targets are just the inputs shifted over by one character. The way I like to do this window is use `range` to take steps of size `n_steps` from $0$ to `arr.shape[1]`, the total number of tokens in each sequence. That way, the integers you get from `range` always point to the start of a batch, and each window is `seq_length` wide.\n",
    "\n",
    "> **TODO:** Write the code for creating batches in the function below. The exercises in this notebook _will not be easy_. I've provided a notebook with solutions alongside this notebook. If you get stuck, checkout the solutions. The most important thing is that you don't copy and paste the code into here, **type out the solution code yourself.**"
   ]
  },
  {
   "cell_type": "code",
   "execution_count": 10,
   "metadata": {},
   "outputs": [],
   "source": [
    "def get_batches(arr, batch_size, seq_length):\n",
    "    '''Create a generator that returns batches of size\n",
    "       batch_size x seq_length from arr.\n",
    "       \n",
    "       Arguments\n",
    "       ---------\n",
    "       arr: Array you want to make batches from\n",
    "       batch_size: Batch size, the number of sequences per batch\n",
    "       seq_length: Number of encoded chars in a sequence\n",
    "    '''\n",
    "    \n",
    "    ## TODO: Get the number of batches we can make\n",
    "    n_batches = len(arr) // (batch_size * seq_length)\n",
    "    \n",
    "    ## TODO: Keep only enough characters to make full batches\n",
    "    arr = arr[: batch_size * seq_length * n_batches]\n",
    "    \n",
    "    ## TODO: Reshape into batch_size rows\n",
    "    arr = arr.reshape((batch_size, -1))\n",
    "    \n",
    "    ## TODO: Iterate over the batches using a window of size seq_length\n",
    "    for n in range(0, arr.shape[1], seq_length):\n",
    "        # The features\n",
    "        x = arr[:, n:n+seq_length]\n",
    "        # The targets, shifted by one\n",
    "        y = np.zeros_like(x)\n",
    "        try:\n",
    "            y[:, :-1], y[:, -1] = x[:, 1:], arr[:, n+seq_length]\n",
    "        except IndexError:\n",
    "            y[:, :-1], y[:, -1] = x[:, 1:], arr[:, 0]\n",
    "        yield x, y"
   ]
  },
  {
   "cell_type": "markdown",
   "metadata": {},
   "source": [
    "### Test Your Implementation\n",
    "\n",
    "Now I'll make some data sets and we can check out what's going on as we batch data. Here, as an example, I'm going to use a batch size of 8 and 50 sequence steps."
   ]
  },
  {
   "cell_type": "code",
   "execution_count": 11,
   "metadata": {},
   "outputs": [],
   "source": [
    "batches = get_batches(encoded, 8, 50)\n",
    "x, y = next(batches)"
   ]
  },
  {
   "cell_type": "code",
   "execution_count": 12,
   "metadata": {},
   "outputs": [
    {
     "name": "stdout",
     "output_type": "stream",
     "text": [
      "x\n",
      " [[45 36 75  0 50 47 43 70 62  8]\n",
      " [10 14 26 70 50 36 75 50 70 75]\n",
      " [47 26 57 70 14 43 70 75 70 81]\n",
      " [10 70 50 36 47 70 48 36 40 47]\n",
      " [70 10 75 34 70 36 47 43 70 50]\n",
      " [48 35 10 10 40 14 26 70 75 26]\n",
      " [70 39 26 26 75 70 36 75 57 70]\n",
      " [67 15 32 14 26 10 73 33 17 70]]\n",
      "\n",
      "y\n",
      " [[36 75  0 50 47 43 70 62  8  8]\n",
      " [14 26 70 50 36 75 50 70 75 50]\n",
      " [26 57 70 14 43 70 75 70 81 14]\n",
      " [70 50 36 47 70 48 36 40 47 81]\n",
      " [10 75 34 70 36 47 43 70 50 47]\n",
      " [35 10 10 40 14 26 70 75 26 57]\n",
      " [39 26 26 75 70 36 75 57 70 10]\n",
      " [15 32 14 26 10 73 33 17 70 74]]\n"
     ]
    }
   ],
   "source": [
    "# printing out the first 10 items in a sequence\n",
    "print('x\\n', x[:10, :10])\n",
    "print('\\ny\\n', y[:10, :10])"
   ]
  },
  {
   "cell_type": "markdown",
   "metadata": {},
   "source": [
    "If you implemented `get_batches` correctly, the above output should look something like \n",
    "```\n",
    "x\n",
    " [[25  8 60 11 45 27 28 73  1  2]\n",
    " [17  7 20 73 45  8 60 45 73 60]\n",
    " [27 20 80 73  7 28 73 60 73 65]\n",
    " [17 73 45  8 27 73 66  8 46 27]\n",
    " [73 17 60 12 73  8 27 28 73 45]\n",
    " [66 64 17 17 46  7 20 73 60 20]\n",
    " [73 76 20 20 60 73  8 60 80 73]\n",
    " [47 35 43  7 20 17 24 50 37 73]]\n",
    "\n",
    "y\n",
    " [[ 8 60 11 45 27 28 73  1  2  2]\n",
    " [ 7 20 73 45  8 60 45 73 60 45]\n",
    " [20 80 73  7 28 73 60 73 65  7]\n",
    " [73 45  8 27 73 66  8 46 27 65]\n",
    " [17 60 12 73  8 27 28 73 45 27]\n",
    " [64 17 17 46  7 20 73 60 20 80]\n",
    " [76 20 20 60 73  8 60 80 73 17]\n",
    " [35 43  7 20 17 24 50 37 73 36]]\n",
    " ```\n",
    " although the exact numbers may be different. Check to make sure the data is shifted over one step for `y`."
   ]
  },
  {
   "cell_type": "markdown",
   "metadata": {},
   "source": [
    "---\n",
    "## Defining the network with PyTorch\n",
    "\n",
    "Below is where you'll define the network.\n",
    "\n",
    "<img src=\"assets/charRNN.png\" width=500px>\n",
    "\n",
    "Next, you'll use PyTorch to define the architecture of the network. We start by defining the layers and operations we want. Then, define a method for the forward pass. You've also been given a method for predicting characters."
   ]
  },
  {
   "cell_type": "markdown",
   "metadata": {},
   "source": [
    "### Model Structure\n",
    "\n",
    "In `__init__` the suggested structure is as follows:\n",
    "* Create and store the necessary dictionaries (this has been done for you)\n",
    "* Define an LSTM layer that takes as params: an input size (the number of characters), a hidden layer size `n_hidden`, a number of layers `n_layers`, a dropout probability `drop_prob`, and a batch_first boolean (True, since we are batching)\n",
    "* Define a dropout layer with `drop_prob`\n",
    "* Define a fully-connected layer with params: input size `n_hidden` and output size (the number of characters)\n",
    "* Finally, initialize the weights (again, this has been given)\n",
    "\n",
    "Note that some parameters have been named and given in the `__init__` function, and we use them and store them by doing something like `self.drop_prob = drop_prob`."
   ]
  },
  {
   "cell_type": "markdown",
   "metadata": {},
   "source": [
    "---\n",
    "### LSTM Inputs/Outputs\n",
    "\n",
    "You can create a basic [LSTM layer](https://pytorch.org/docs/stable/nn.html#lstm) as follows\n",
    "\n",
    "```python\n",
    "self.lstm = nn.LSTM(input_size, n_hidden, n_layers, \n",
    "                            dropout=drop_prob, batch_first=True)\n",
    "```\n",
    "\n",
    "where `input_size` is the number of characters this cell expects to see as sequential input, and `n_hidden` is the number of units in the hidden layers in the cell. And we can add dropout by adding a dropout parameter with a specified probability; this will automatically add dropout to the inputs or outputs. Finally, in the `forward` function, we can stack up the LSTM cells into layers using `.view`. With this, you pass in a list of cells and it will send the output of one cell into the next cell.\n",
    "\n",
    "We also need to create an initial hidden state of all zeros. This is done like so\n",
    "\n",
    "```python\n",
    "self.init_hidden()\n",
    "```"
   ]
  },
  {
   "cell_type": "code",
   "execution_count": 13,
   "metadata": {},
   "outputs": [
    {
     "name": "stdout",
     "output_type": "stream",
     "text": [
      "Training on GPU!\n"
     ]
    }
   ],
   "source": [
    "# check if GPU is available\n",
    "train_on_gpu = torch.cuda.is_available()\n",
    "if(train_on_gpu):\n",
    "    print('Training on GPU!')\n",
    "else: \n",
    "    print('No GPU available, training on CPU; consider making n_epochs very small.')"
   ]
  },
  {
   "cell_type": "code",
   "execution_count": 20,
   "metadata": {},
   "outputs": [],
   "source": [
    "class CharRNN(nn.Module):\n",
    "    \n",
    "    def __init__(self, tokens, n_hidden=256, n_layers=2,\n",
    "                               drop_prob=0.5, lr=0.001):\n",
    "        super().__init__()\n",
    "        self.drop_prob = drop_prob\n",
    "        self.n_layers = n_layers\n",
    "        self.n_hidden = n_hidden\n",
    "        self.lr = lr\n",
    "        \n",
    "        # creating character dictionaries\n",
    "        self.chars = tokens\n",
    "        self.int2char = dict(enumerate(self.chars))\n",
    "        self.char2int = {ch: ii for ii, ch in self.int2char.items()}\n",
    "        \n",
    "        ## TODO: define the layers of the model\n",
    "        self.lstm = nn.LSTM(len(self.chars),self.n_hidden,self.n_layers, dropout=self.drop_prob,batch_first=True)\n",
    "        self.dropout = nn.Dropout(self.drop_prob)\n",
    "        self.fc = nn.Linear(n_hidden, len(self.chars))\n",
    "      \n",
    "    \n",
    "    def forward(self, x, hidden):\n",
    "        ''' Forward pass through the network. \n",
    "            These inputs are x, and the hidden/cell state `hidden`. '''\n",
    "                \n",
    "        ## TODO: Get the outputs and the new hidden state from the lstm\n",
    "        r_output, hidden = self.lstm(x, hidden)\n",
    "        out = self.dropout(r_output)\n",
    "        out = out.contiguous().view(-1, self.n_hidden)\n",
    "        out = self.fc(out)\n",
    "        \n",
    "        # return the final output and the hidden state\n",
    "        return out, hidden\n",
    "    \n",
    "    \n",
    "    def init_hidden(self, batch_size):\n",
    "        ''' Initializes hidden state '''\n",
    "        # Create two new tensors with sizes n_layers x batch_size x n_hidden,\n",
    "        # initialized to zero, for hidden state and cell state of LSTM\n",
    "        weight = next(self.parameters()).data\n",
    "        \n",
    "        if (train_on_gpu):\n",
    "            hidden = (weight.new(self.n_layers, batch_size, self.n_hidden).zero_().cuda(),\n",
    "                  weight.new(self.n_layers, batch_size, self.n_hidden).zero_().cuda())\n",
    "        else:\n",
    "            hidden = (weight.new(self.n_layers, batch_size, self.n_hidden).zero_(),\n",
    "                      weight.new(self.n_layers, batch_size, self.n_hidden).zero_())\n",
    "        \n",
    "        return hidden\n",
    "        "
   ]
  },
  {
   "cell_type": "markdown",
   "metadata": {},
   "source": [
    "## Time to train\n",
    "\n",
    "The train function gives us the ability to set the number of epochs, the learning rate, and other parameters.\n",
    "\n",
    "Below we're using an Adam optimizer and cross entropy loss since we are looking at character class scores as output. We calculate the loss and perform backpropagation, as usual!\n",
    "\n",
    "A couple of details about training: \n",
    ">* Within the batch loop, we detach the hidden state from its history; this time setting it equal to a new *tuple* variable because an LSTM has a hidden state that is a tuple of the hidden and cell states.\n",
    "* We use [`clip_grad_norm_`](https://pytorch.org/docs/stable/_modules/torch/nn/utils/clip_grad.html) to help prevent exploding gradients."
   ]
  },
  {
   "cell_type": "code",
   "execution_count": 21,
   "metadata": {},
   "outputs": [],
   "source": [
    "def train(net, data, epochs=10, batch_size=10, seq_length=50, lr=0.001, clip=5, val_frac=0.1, print_every=10):\n",
    "    ''' Training a network \n",
    "    \n",
    "        Arguments\n",
    "        ---------\n",
    "        \n",
    "        net: CharRNN network\n",
    "        data: text data to train the network\n",
    "        epochs: Number of epochs to train\n",
    "        batch_size: Number of mini-sequences per mini-batch, aka batch size\n",
    "        seq_length: Number of character steps per mini-batch\n",
    "        lr: learning rate\n",
    "        clip: gradient clipping\n",
    "        val_frac: Fraction of data to hold out for validation\n",
    "        print_every: Number of steps for printing training and validation loss\n",
    "    \n",
    "    '''\n",
    "    net.train()\n",
    "    \n",
    "    opt = torch.optim.Adam(net.parameters(), lr=lr)\n",
    "    criterion = nn.CrossEntropyLoss()\n",
    "    \n",
    "    # create training and validation data\n",
    "    val_idx = int(len(data)*(1-val_frac))\n",
    "    data, val_data = data[:val_idx], data[val_idx:]\n",
    "    \n",
    "    if(train_on_gpu):\n",
    "        net.cuda()\n",
    "    \n",
    "    counter = 0\n",
    "    n_chars = len(net.chars)\n",
    "    for e in range(epochs):\n",
    "        # initialize hidden state\n",
    "        h = net.init_hidden(batch_size)\n",
    "        \n",
    "        for x, y in get_batches(data, batch_size, seq_length):\n",
    "            counter += 1\n",
    "            \n",
    "            # One-hot encode our data and make them Torch tensors\n",
    "            x = one_hot_encode(x, n_chars)\n",
    "            inputs, targets = torch.from_numpy(x), torch.from_numpy(y)\n",
    "            \n",
    "            if(train_on_gpu):\n",
    "                inputs, targets = inputs.cuda(), targets.cuda()\n",
    "\n",
    "            # Creating new variables for the hidden state, otherwise\n",
    "            # we'd backprop through the entire training history\n",
    "            h = tuple([each.data for each in h])\n",
    "\n",
    "            # zero accumulated gradients\n",
    "            net.zero_grad()\n",
    "            \n",
    "            # get the output from the model\n",
    "            output, h = net(inputs, h)\n",
    "            \n",
    "            # calculate the loss and perform backprop\n",
    "            loss = criterion(output, targets.view(batch_size*seq_length).long())\n",
    "            loss.backward()\n",
    "            # `clip_grad_norm` helps prevent the exploding gradient problem in RNNs / LSTMs.\n",
    "            nn.utils.clip_grad_norm_(net.parameters(), clip)\n",
    "            opt.step()\n",
    "            \n",
    "            # loss stats\n",
    "            if counter % print_every == 0:\n",
    "                # Get validation loss\n",
    "                val_h = net.init_hidden(batch_size)\n",
    "                val_losses = []\n",
    "                net.eval()\n",
    "                for x, y in get_batches(val_data, batch_size, seq_length):\n",
    "                    # One-hot encode our data and make them Torch tensors\n",
    "                    x = one_hot_encode(x, n_chars)\n",
    "                    x, y = torch.from_numpy(x), torch.from_numpy(y)\n",
    "                    \n",
    "                    # Creating new variables for the hidden state, otherwise\n",
    "                    # we'd backprop through the entire training history\n",
    "                    val_h = tuple([each.data for each in val_h])\n",
    "                    \n",
    "                    inputs, targets = x, y\n",
    "                    if(train_on_gpu):\n",
    "                        inputs, targets = inputs.cuda(), targets.cuda()\n",
    "\n",
    "                    output, val_h = net(inputs, val_h)\n",
    "                    val_loss = criterion(output, targets.view(batch_size*seq_length).long())\n",
    "                \n",
    "                    val_losses.append(val_loss.item())\n",
    "                \n",
    "                net.train() # reset to train mode after iterationg through validation data\n",
    "                \n",
    "                print(\"Epoch: {}/{}...\".format(e+1, epochs),\n",
    "                      \"Step: {}...\".format(counter),\n",
    "                      \"Loss: {:.4f}...\".format(loss.item()),\n",
    "                      \"Val Loss: {:.4f}\".format(np.mean(val_losses)))"
   ]
  },
  {
   "cell_type": "markdown",
   "metadata": {},
   "source": [
    "## Instantiating the model\n",
    "\n",
    "Now we can actually train the network. First we'll create the network itself, with some given hyperparameters. Then, define the mini-batches sizes, and start training!"
   ]
  },
  {
   "cell_type": "code",
   "execution_count": 22,
   "metadata": {},
   "outputs": [
    {
     "name": "stdout",
     "output_type": "stream",
     "text": [
      "CharRNN(\n",
      "  (lstm): LSTM(83, 512, num_layers=2, batch_first=True, dropout=0.5)\n",
      "  (dropout): Dropout(p=0.5, inplace=False)\n",
      "  (fc): Linear(in_features=512, out_features=83, bias=True)\n",
      ")\n"
     ]
    }
   ],
   "source": [
    "## TODO: set your model hyperparameters\n",
    "# define and print the net\n",
    "n_hidden=512\n",
    "n_layers=2\n",
    "\n",
    "net = CharRNN(chars, n_hidden, n_layers)\n",
    "print(net)"
   ]
  },
  {
   "cell_type": "markdown",
   "metadata": {},
   "source": [
    "### Set your training hyperparameters!"
   ]
  },
  {
   "cell_type": "code",
   "execution_count": 23,
   "metadata": {
    "scrolled": true
   },
   "outputs": [
    {
     "name": "stdout",
     "output_type": "stream",
     "text": [
      "Epoch: 1/20... Step: 10... Loss: 3.2487... Val Loss: 3.2021\n",
      "Epoch: 1/20... Step: 20... Loss: 3.1509... Val Loss: 3.1406\n",
      "Epoch: 1/20... Step: 30... Loss: 3.1379... Val Loss: 3.1240\n",
      "Epoch: 1/20... Step: 40... Loss: 3.1140... Val Loss: 3.1196\n",
      "Epoch: 1/20... Step: 50... Loss: 3.1420... Val Loss: 3.1162\n",
      "Epoch: 1/20... Step: 60... Loss: 3.1162... Val Loss: 3.1133\n",
      "Epoch: 1/20... Step: 70... Loss: 3.1040... Val Loss: 3.1090\n",
      "Epoch: 1/20... Step: 80... Loss: 3.1226... Val Loss: 3.0985\n",
      "Epoch: 1/20... Step: 90... Loss: 3.1080... Val Loss: 3.0913\n",
      "Epoch: 1/20... Step: 100... Loss: 3.0746... Val Loss: 3.0552\n",
      "Epoch: 1/20... Step: 110... Loss: 3.0009... Val Loss: 2.9754\n",
      "Epoch: 1/20... Step: 120... Loss: 2.8769... Val Loss: 2.8469\n",
      "Epoch: 1/20... Step: 130... Loss: 2.8632... Val Loss: 2.8200\n",
      "Epoch: 2/20... Step: 140... Loss: 2.7287... Val Loss: 2.6793\n",
      "Epoch: 2/20... Step: 150... Loss: 2.6268... Val Loss: 2.5738\n",
      "Epoch: 2/20... Step: 160... Loss: 2.5569... Val Loss: 2.5156\n",
      "Epoch: 2/20... Step: 170... Loss: 2.4775... Val Loss: 2.4762\n",
      "Epoch: 2/20... Step: 180... Loss: 2.4554... Val Loss: 2.4320\n",
      "Epoch: 2/20... Step: 190... Loss: 2.4059... Val Loss: 2.4162\n",
      "Epoch: 2/20... Step: 200... Loss: 2.4031... Val Loss: 2.3757\n",
      "Epoch: 2/20... Step: 210... Loss: 2.3670... Val Loss: 2.3435\n",
      "Epoch: 2/20... Step: 220... Loss: 2.3259... Val Loss: 2.3117\n",
      "Epoch: 2/20... Step: 230... Loss: 2.3210... Val Loss: 2.3043\n",
      "Epoch: 2/20... Step: 240... Loss: 2.3027... Val Loss: 2.2623\n",
      "Epoch: 2/20... Step: 250... Loss: 2.2316... Val Loss: 2.2344\n",
      "Epoch: 2/20... Step: 260... Loss: 2.2067... Val Loss: 2.2092\n",
      "Epoch: 2/20... Step: 270... Loss: 2.2139... Val Loss: 2.1834\n",
      "Epoch: 3/20... Step: 280... Loss: 2.2030... Val Loss: 2.1614\n",
      "Epoch: 3/20... Step: 290... Loss: 2.1688... Val Loss: 2.1371\n",
      "Epoch: 3/20... Step: 300... Loss: 2.1440... Val Loss: 2.1221\n",
      "Epoch: 3/20... Step: 310... Loss: 2.1229... Val Loss: 2.0996\n",
      "Epoch: 3/20... Step: 320... Loss: 2.0970... Val Loss: 2.0798\n",
      "Epoch: 3/20... Step: 330... Loss: 2.0744... Val Loss: 2.0659\n",
      "Epoch: 3/20... Step: 340... Loss: 2.0962... Val Loss: 2.0452\n",
      "Epoch: 3/20... Step: 350... Loss: 2.0637... Val Loss: 2.0263\n",
      "Epoch: 3/20... Step: 360... Loss: 1.9946... Val Loss: 2.0106\n",
      "Epoch: 3/20... Step: 370... Loss: 2.0325... Val Loss: 1.9937\n",
      "Epoch: 3/20... Step: 380... Loss: 2.0009... Val Loss: 1.9779\n",
      "Epoch: 3/20... Step: 390... Loss: 1.9827... Val Loss: 1.9622\n",
      "Epoch: 3/20... Step: 400... Loss: 1.9492... Val Loss: 1.9464\n",
      "Epoch: 3/20... Step: 410... Loss: 1.9600... Val Loss: 1.9306\n",
      "Epoch: 4/20... Step: 420... Loss: 1.9479... Val Loss: 1.9175\n",
      "Epoch: 4/20... Step: 430... Loss: 1.9407... Val Loss: 1.9037\n",
      "Epoch: 4/20... Step: 440... Loss: 1.9229... Val Loss: 1.8929\n",
      "Epoch: 4/20... Step: 450... Loss: 1.8610... Val Loss: 1.8814\n",
      "Epoch: 4/20... Step: 460... Loss: 1.8540... Val Loss: 1.8678\n",
      "Epoch: 4/20... Step: 470... Loss: 1.8824... Val Loss: 1.8570\n",
      "Epoch: 4/20... Step: 480... Loss: 1.8629... Val Loss: 1.8506\n",
      "Epoch: 4/20... Step: 490... Loss: 1.8662... Val Loss: 1.8346\n",
      "Epoch: 4/20... Step: 500... Loss: 1.8606... Val Loss: 1.8258\n",
      "Epoch: 4/20... Step: 510... Loss: 1.8404... Val Loss: 1.8130\n",
      "Epoch: 4/20... Step: 520... Loss: 1.8473... Val Loss: 1.8018\n",
      "Epoch: 4/20... Step: 530... Loss: 1.8109... Val Loss: 1.7936\n",
      "Epoch: 4/20... Step: 540... Loss: 1.7680... Val Loss: 1.7840\n",
      "Epoch: 4/20... Step: 550... Loss: 1.8166... Val Loss: 1.7685\n",
      "Epoch: 5/20... Step: 560... Loss: 1.7854... Val Loss: 1.7616\n",
      "Epoch: 5/20... Step: 570... Loss: 1.7628... Val Loss: 1.7559\n",
      "Epoch: 5/20... Step: 580... Loss: 1.7437... Val Loss: 1.7441\n",
      "Epoch: 5/20... Step: 590... Loss: 1.7433... Val Loss: 1.7322\n",
      "Epoch: 5/20... Step: 600... Loss: 1.7408... Val Loss: 1.7275\n",
      "Epoch: 5/20... Step: 610... Loss: 1.7189... Val Loss: 1.7186\n",
      "Epoch: 5/20... Step: 620... Loss: 1.7194... Val Loss: 1.7137\n",
      "Epoch: 5/20... Step: 630... Loss: 1.7335... Val Loss: 1.7066\n",
      "Epoch: 5/20... Step: 640... Loss: 1.7115... Val Loss: 1.6972\n",
      "Epoch: 5/20... Step: 650... Loss: 1.6910... Val Loss: 1.6859\n",
      "Epoch: 5/20... Step: 660... Loss: 1.6756... Val Loss: 1.6770\n",
      "Epoch: 5/20... Step: 670... Loss: 1.7052... Val Loss: 1.6746\n",
      "Epoch: 5/20... Step: 680... Loss: 1.7012... Val Loss: 1.6688\n",
      "Epoch: 5/20... Step: 690... Loss: 1.6639... Val Loss: 1.6609\n",
      "Epoch: 6/20... Step: 700... Loss: 1.6740... Val Loss: 1.6544\n",
      "Epoch: 6/20... Step: 710... Loss: 1.6584... Val Loss: 1.6497\n",
      "Epoch: 6/20... Step: 720... Loss: 1.6440... Val Loss: 1.6404\n",
      "Epoch: 6/20... Step: 730... Loss: 1.6577... Val Loss: 1.6345\n",
      "Epoch: 6/20... Step: 740... Loss: 1.6305... Val Loss: 1.6319\n",
      "Epoch: 6/20... Step: 750... Loss: 1.6129... Val Loss: 1.6261\n",
      "Epoch: 6/20... Step: 760... Loss: 1.6491... Val Loss: 1.6184\n",
      "Epoch: 6/20... Step: 770... Loss: 1.6307... Val Loss: 1.6155\n",
      "Epoch: 6/20... Step: 780... Loss: 1.6063... Val Loss: 1.6075\n",
      "Epoch: 6/20... Step: 790... Loss: 1.5969... Val Loss: 1.6035\n",
      "Epoch: 6/20... Step: 800... Loss: 1.6142... Val Loss: 1.5997\n",
      "Epoch: 6/20... Step: 810... Loss: 1.6011... Val Loss: 1.5960\n",
      "Epoch: 6/20... Step: 820... Loss: 1.5658... Val Loss: 1.5896\n",
      "Epoch: 6/20... Step: 830... Loss: 1.6168... Val Loss: 1.5826\n",
      "Epoch: 7/20... Step: 840... Loss: 1.5609... Val Loss: 1.5748\n",
      "Epoch: 7/20... Step: 850... Loss: 1.5805... Val Loss: 1.5734\n",
      "Epoch: 7/20... Step: 860... Loss: 1.5573... Val Loss: 1.5660\n",
      "Epoch: 7/20... Step: 870... Loss: 1.5785... Val Loss: 1.5623\n",
      "Epoch: 7/20... Step: 880... Loss: 1.5803... Val Loss: 1.5610\n",
      "Epoch: 7/20... Step: 890... Loss: 1.5710... Val Loss: 1.5538\n",
      "Epoch: 7/20... Step: 900... Loss: 1.5517... Val Loss: 1.5507\n",
      "Epoch: 7/20... Step: 910... Loss: 1.5254... Val Loss: 1.5478\n",
      "Epoch: 7/20... Step: 920... Loss: 1.5488... Val Loss: 1.5437\n",
      "Epoch: 7/20... Step: 930... Loss: 1.5322... Val Loss: 1.5432\n",
      "Epoch: 7/20... Step: 940... Loss: 1.5361... Val Loss: 1.5360\n",
      "Epoch: 7/20... Step: 950... Loss: 1.5491... Val Loss: 1.5309\n",
      "Epoch: 7/20... Step: 960... Loss: 1.5570... Val Loss: 1.5293\n",
      "Epoch: 7/20... Step: 970... Loss: 1.5535... Val Loss: 1.5258\n",
      "Epoch: 8/20... Step: 980... Loss: 1.5192... Val Loss: 1.5215\n",
      "Epoch: 8/20... Step: 990... Loss: 1.5324... Val Loss: 1.5176\n",
      "Epoch: 8/20... Step: 1000... Loss: 1.5150... Val Loss: 1.5114\n",
      "Epoch: 8/20... Step: 1010... Loss: 1.5523... Val Loss: 1.5115\n",
      "Epoch: 8/20... Step: 1020... Loss: 1.5166... Val Loss: 1.5075\n",
      "Epoch: 8/20... Step: 1030... Loss: 1.4995... Val Loss: 1.5044\n",
      "Epoch: 8/20... Step: 1040... Loss: 1.5108... Val Loss: 1.5042\n",
      "Epoch: 8/20... Step: 1050... Loss: 1.4893... Val Loss: 1.5004\n",
      "Epoch: 8/20... Step: 1060... Loss: 1.4915... Val Loss: 1.4955\n",
      "Epoch: 8/20... Step: 1070... Loss: 1.4992... Val Loss: 1.4947\n",
      "Epoch: 8/20... Step: 1080... Loss: 1.4994... Val Loss: 1.4888\n",
      "Epoch: 8/20... Step: 1090... Loss: 1.4812... Val Loss: 1.4864\n",
      "Epoch: 8/20... Step: 1100... Loss: 1.4703... Val Loss: 1.4822\n",
      "Epoch: 8/20... Step: 1110... Loss: 1.4826... Val Loss: 1.4803\n",
      "Epoch: 9/20... Step: 1120... Loss: 1.4957... Val Loss: 1.4792\n",
      "Epoch: 9/20... Step: 1130... Loss: 1.4800... Val Loss: 1.4767\n",
      "Epoch: 9/20... Step: 1140... Loss: 1.4998... Val Loss: 1.4696\n",
      "Epoch: 9/20... Step: 1150... Loss: 1.5033... Val Loss: 1.4706\n",
      "Epoch: 9/20... Step: 1160... Loss: 1.4579... Val Loss: 1.4666\n",
      "Epoch: 9/20... Step: 1170... Loss: 1.4682... Val Loss: 1.4624\n",
      "Epoch: 9/20... Step: 1180... Loss: 1.4628... Val Loss: 1.4643\n",
      "Epoch: 9/20... Step: 1190... Loss: 1.4854... Val Loss: 1.4580\n",
      "Epoch: 9/20... Step: 1200... Loss: 1.4365... Val Loss: 1.4589\n",
      "Epoch: 9/20... Step: 1210... Loss: 1.4538... Val Loss: 1.4563\n",
      "Epoch: 9/20... Step: 1220... Loss: 1.4447... Val Loss: 1.4510\n",
      "Epoch: 9/20... Step: 1230... Loss: 1.4319... Val Loss: 1.4492\n",
      "Epoch: 9/20... Step: 1240... Loss: 1.4341... Val Loss: 1.4458\n",
      "Epoch: 9/20... Step: 1250... Loss: 1.4434... Val Loss: 1.4459\n",
      "Epoch: 10/20... Step: 1260... Loss: 1.4583... Val Loss: 1.4422\n",
      "Epoch: 10/20... Step: 1270... Loss: 1.4466... Val Loss: 1.4432\n",
      "Epoch: 10/20... Step: 1280... Loss: 1.4593... Val Loss: 1.4408\n",
      "Epoch: 10/20... Step: 1290... Loss: 1.4430... Val Loss: 1.4423\n",
      "Epoch: 10/20... Step: 1300... Loss: 1.4318... Val Loss: 1.4353\n",
      "Epoch: 10/20... Step: 1310... Loss: 1.4416... Val Loss: 1.4322\n",
      "Epoch: 10/20... Step: 1320... Loss: 1.4075... Val Loss: 1.4298\n",
      "Epoch: 10/20... Step: 1330... Loss: 1.4083... Val Loss: 1.4283\n",
      "Epoch: 10/20... Step: 1340... Loss: 1.4028... Val Loss: 1.4267\n"
     ]
    },
    {
     "name": "stdout",
     "output_type": "stream",
     "text": [
      "Epoch: 10/20... Step: 1350... Loss: 1.4008... Val Loss: 1.4264\n",
      "Epoch: 10/20... Step: 1360... Loss: 1.4039... Val Loss: 1.4216\n",
      "Epoch: 10/20... Step: 1370... Loss: 1.3904... Val Loss: 1.4227\n",
      "Epoch: 10/20... Step: 1380... Loss: 1.4332... Val Loss: 1.4208\n",
      "Epoch: 10/20... Step: 1390... Loss: 1.4370... Val Loss: 1.4170\n",
      "Epoch: 11/20... Step: 1400... Loss: 1.4362... Val Loss: 1.4150\n",
      "Epoch: 11/20... Step: 1410... Loss: 1.4377... Val Loss: 1.4148\n",
      "Epoch: 11/20... Step: 1420... Loss: 1.4393... Val Loss: 1.4139\n",
      "Epoch: 11/20... Step: 1430... Loss: 1.4038... Val Loss: 1.4199\n",
      "Epoch: 11/20... Step: 1440... Loss: 1.4319... Val Loss: 1.4106\n",
      "Epoch: 11/20... Step: 1450... Loss: 1.3526... Val Loss: 1.4094\n",
      "Epoch: 11/20... Step: 1460... Loss: 1.3865... Val Loss: 1.4061\n",
      "Epoch: 11/20... Step: 1470... Loss: 1.3769... Val Loss: 1.4073\n",
      "Epoch: 11/20... Step: 1480... Loss: 1.3969... Val Loss: 1.4036\n",
      "Epoch: 11/20... Step: 1490... Loss: 1.3854... Val Loss: 1.4020\n",
      "Epoch: 11/20... Step: 1500... Loss: 1.3782... Val Loss: 1.4047\n",
      "Epoch: 11/20... Step: 1510... Loss: 1.3556... Val Loss: 1.4002\n",
      "Epoch: 11/20... Step: 1520... Loss: 1.3906... Val Loss: 1.3954\n",
      "Epoch: 12/20... Step: 1530... Loss: 1.4454... Val Loss: 1.3973\n",
      "Epoch: 12/20... Step: 1540... Loss: 1.3914... Val Loss: 1.3930\n",
      "Epoch: 12/20... Step: 1550... Loss: 1.4052... Val Loss: 1.3937\n",
      "Epoch: 12/20... Step: 1560... Loss: 1.4085... Val Loss: 1.3913\n",
      "Epoch: 12/20... Step: 1570... Loss: 1.3606... Val Loss: 1.3918\n",
      "Epoch: 12/20... Step: 1580... Loss: 1.3403... Val Loss: 1.3912\n",
      "Epoch: 12/20... Step: 1590... Loss: 1.3381... Val Loss: 1.3870\n",
      "Epoch: 12/20... Step: 1600... Loss: 1.3607... Val Loss: 1.3869\n",
      "Epoch: 12/20... Step: 1610... Loss: 1.3509... Val Loss: 1.3882\n",
      "Epoch: 12/20... Step: 1620... Loss: 1.3505... Val Loss: 1.3836\n",
      "Epoch: 12/20... Step: 1630... Loss: 1.3786... Val Loss: 1.3824\n",
      "Epoch: 12/20... Step: 1640... Loss: 1.3526... Val Loss: 1.3814\n",
      "Epoch: 12/20... Step: 1650... Loss: 1.3267... Val Loss: 1.3819\n",
      "Epoch: 12/20... Step: 1660... Loss: 1.3817... Val Loss: 1.3779\n",
      "Epoch: 13/20... Step: 1670... Loss: 1.3558... Val Loss: 1.3821\n",
      "Epoch: 13/20... Step: 1680... Loss: 1.3621... Val Loss: 1.3731\n",
      "Epoch: 13/20... Step: 1690... Loss: 1.3438... Val Loss: 1.3721\n",
      "Epoch: 13/20... Step: 1700... Loss: 1.3408... Val Loss: 1.3727\n",
      "Epoch: 13/20... Step: 1710... Loss: 1.3233... Val Loss: 1.3739\n",
      "Epoch: 13/20... Step: 1720... Loss: 1.3319... Val Loss: 1.3722\n",
      "Epoch: 13/20... Step: 1730... Loss: 1.3669... Val Loss: 1.3681\n",
      "Epoch: 13/20... Step: 1740... Loss: 1.3421... Val Loss: 1.3687\n",
      "Epoch: 13/20... Step: 1750... Loss: 1.3026... Val Loss: 1.3716\n",
      "Epoch: 13/20... Step: 1760... Loss: 1.3420... Val Loss: 1.3670\n",
      "Epoch: 13/20... Step: 1770... Loss: 1.3593... Val Loss: 1.3657\n",
      "Epoch: 13/20... Step: 1780... Loss: 1.3246... Val Loss: 1.3647\n",
      "Epoch: 13/20... Step: 1790... Loss: 1.3150... Val Loss: 1.3630\n",
      "Epoch: 13/20... Step: 1800... Loss: 1.3388... Val Loss: 1.3617\n",
      "Epoch: 14/20... Step: 1810... Loss: 1.3447... Val Loss: 1.3768\n",
      "Epoch: 14/20... Step: 1820... Loss: 1.3376... Val Loss: 1.3589\n",
      "Epoch: 14/20... Step: 1830... Loss: 1.3475... Val Loss: 1.3620\n",
      "Epoch: 14/20... Step: 1840... Loss: 1.2923... Val Loss: 1.3571\n",
      "Epoch: 14/20... Step: 1850... Loss: 1.2692... Val Loss: 1.3565\n",
      "Epoch: 14/20... Step: 1860... Loss: 1.3432... Val Loss: 1.3577\n",
      "Epoch: 14/20... Step: 1870... Loss: 1.3419... Val Loss: 1.3541\n",
      "Epoch: 14/20... Step: 1880... Loss: 1.3285... Val Loss: 1.3565\n",
      "Epoch: 14/20... Step: 1890... Loss: 1.3443... Val Loss: 1.3554\n",
      "Epoch: 14/20... Step: 1900... Loss: 1.3264... Val Loss: 1.3542\n",
      "Epoch: 14/20... Step: 1910... Loss: 1.3222... Val Loss: 1.3496\n",
      "Epoch: 14/20... Step: 1920... Loss: 1.3215... Val Loss: 1.3499\n",
      "Epoch: 14/20... Step: 1930... Loss: 1.2817... Val Loss: 1.3492\n",
      "Epoch: 14/20... Step: 1940... Loss: 1.3456... Val Loss: 1.3488\n",
      "Epoch: 15/20... Step: 1950... Loss: 1.3161... Val Loss: 1.3466\n",
      "Epoch: 15/20... Step: 1960... Loss: 1.3151... Val Loss: 1.3439\n",
      "Epoch: 15/20... Step: 1970... Loss: 1.3079... Val Loss: 1.3434\n",
      "Epoch: 15/20... Step: 1980... Loss: 1.2914... Val Loss: 1.3458\n",
      "Epoch: 15/20... Step: 1990... Loss: 1.3062... Val Loss: 1.3473\n",
      "Epoch: 15/20... Step: 2000... Loss: 1.2907... Val Loss: 1.3443\n",
      "Epoch: 15/20... Step: 2010... Loss: 1.3058... Val Loss: 1.3423\n",
      "Epoch: 15/20... Step: 2020... Loss: 1.3244... Val Loss: 1.3448\n",
      "Epoch: 15/20... Step: 2030... Loss: 1.2914... Val Loss: 1.3427\n",
      "Epoch: 15/20... Step: 2040... Loss: 1.3063... Val Loss: 1.3408\n",
      "Epoch: 15/20... Step: 2050... Loss: 1.2971... Val Loss: 1.3396\n",
      "Epoch: 15/20... Step: 2060... Loss: 1.3034... Val Loss: 1.3381\n",
      "Epoch: 15/20... Step: 2070... Loss: 1.3124... Val Loss: 1.3395\n",
      "Epoch: 15/20... Step: 2080... Loss: 1.2976... Val Loss: 1.3362\n",
      "Epoch: 16/20... Step: 2090... Loss: 1.3101... Val Loss: 1.3361\n",
      "Epoch: 16/20... Step: 2100... Loss: 1.2859... Val Loss: 1.3323\n",
      "Epoch: 16/20... Step: 2110... Loss: 1.2865... Val Loss: 1.3349\n",
      "Epoch: 16/20... Step: 2120... Loss: 1.3028... Val Loss: 1.3353\n",
      "Epoch: 16/20... Step: 2130... Loss: 1.2677... Val Loss: 1.3325\n",
      "Epoch: 16/20... Step: 2140... Loss: 1.2819... Val Loss: 1.3317\n",
      "Epoch: 16/20... Step: 2150... Loss: 1.3135... Val Loss: 1.3283\n",
      "Epoch: 16/20... Step: 2160... Loss: 1.2833... Val Loss: 1.3339\n",
      "Epoch: 16/20... Step: 2170... Loss: 1.2822... Val Loss: 1.3359\n",
      "Epoch: 16/20... Step: 2180... Loss: 1.2742... Val Loss: 1.3305\n",
      "Epoch: 16/20... Step: 2190... Loss: 1.2999... Val Loss: 1.3277\n",
      "Epoch: 16/20... Step: 2200... Loss: 1.2801... Val Loss: 1.3261\n",
      "Epoch: 16/20... Step: 2210... Loss: 1.2425... Val Loss: 1.3277\n",
      "Epoch: 16/20... Step: 2220... Loss: 1.2904... Val Loss: 1.3255\n",
      "Epoch: 17/20... Step: 2230... Loss: 1.2626... Val Loss: 1.3225\n",
      "Epoch: 17/20... Step: 2240... Loss: 1.2811... Val Loss: 1.3235\n",
      "Epoch: 17/20... Step: 2250... Loss: 1.2619... Val Loss: 1.3237\n",
      "Epoch: 17/20... Step: 2260... Loss: 1.2693... Val Loss: 1.3215\n",
      "Epoch: 17/20... Step: 2270... Loss: 1.2826... Val Loss: 1.3269\n",
      "Epoch: 17/20... Step: 2280... Loss: 1.2902... Val Loss: 1.3198\n",
      "Epoch: 17/20... Step: 2290... Loss: 1.2823... Val Loss: 1.3188\n",
      "Epoch: 17/20... Step: 2300... Loss: 1.2433... Val Loss: 1.3252\n",
      "Epoch: 17/20... Step: 2310... Loss: 1.2736... Val Loss: 1.3218\n",
      "Epoch: 17/20... Step: 2320... Loss: 1.2604... Val Loss: 1.3210\n",
      "Epoch: 17/20... Step: 2330... Loss: 1.2661... Val Loss: 1.3162\n",
      "Epoch: 17/20... Step: 2340... Loss: 1.2924... Val Loss: 1.3169\n",
      "Epoch: 17/20... Step: 2350... Loss: 1.2880... Val Loss: 1.3174\n",
      "Epoch: 17/20... Step: 2360... Loss: 1.2782... Val Loss: 1.3172\n",
      "Epoch: 18/20... Step: 2370... Loss: 1.2626... Val Loss: 1.3131\n",
      "Epoch: 18/20... Step: 2380... Loss: 1.2622... Val Loss: 1.3126\n",
      "Epoch: 18/20... Step: 2390... Loss: 1.2592... Val Loss: 1.3176\n",
      "Epoch: 18/20... Step: 2400... Loss: 1.2905... Val Loss: 1.3169\n",
      "Epoch: 18/20... Step: 2410... Loss: 1.2727... Val Loss: 1.3176\n",
      "Epoch: 18/20... Step: 2420... Loss: 1.2620... Val Loss: 1.3132\n",
      "Epoch: 18/20... Step: 2430... Loss: 1.2768... Val Loss: 1.3142\n",
      "Epoch: 18/20... Step: 2440... Loss: 1.2512... Val Loss: 1.3155\n",
      "Epoch: 18/20... Step: 2450... Loss: 1.2469... Val Loss: 1.3124\n",
      "Epoch: 18/20... Step: 2460... Loss: 1.2596... Val Loss: 1.3106\n",
      "Epoch: 18/20... Step: 2470... Loss: 1.2551... Val Loss: 1.3078\n",
      "Epoch: 18/20... Step: 2480... Loss: 1.2514... Val Loss: 1.3082\n",
      "Epoch: 18/20... Step: 2490... Loss: 1.2413... Val Loss: 1.3097\n",
      "Epoch: 18/20... Step: 2500... Loss: 1.2515... Val Loss: 1.3078\n",
      "Epoch: 19/20... Step: 2510... Loss: 1.2516... Val Loss: 1.3042\n",
      "Epoch: 19/20... Step: 2520... Loss: 1.2669... Val Loss: 1.3070\n",
      "Epoch: 19/20... Step: 2530... Loss: 1.2610... Val Loss: 1.3048\n",
      "Epoch: 19/20... Step: 2540... Loss: 1.2785... Val Loss: 1.3080\n",
      "Epoch: 19/20... Step: 2550... Loss: 1.2442... Val Loss: 1.3120\n",
      "Epoch: 19/20... Step: 2560... Loss: 1.2597... Val Loss: 1.3064\n",
      "Epoch: 19/20... Step: 2570... Loss: 1.2437... Val Loss: 1.3063\n",
      "Epoch: 19/20... Step: 2580... Loss: 1.2802... Val Loss: 1.3087\n",
      "Epoch: 19/20... Step: 2590... Loss: 1.2369... Val Loss: 1.3085\n",
      "Epoch: 19/20... Step: 2600... Loss: 1.2346... Val Loss: 1.3064\n",
      "Epoch: 19/20... Step: 2610... Loss: 1.2412... Val Loss: 1.3023\n",
      "Epoch: 19/20... Step: 2620... Loss: 1.2205... Val Loss: 1.3051\n",
      "Epoch: 19/20... Step: 2630... Loss: 1.2353... Val Loss: 1.3014\n",
      "Epoch: 19/20... Step: 2640... Loss: 1.2468... Val Loss: 1.3005\n",
      "Epoch: 20/20... Step: 2650... Loss: 1.2473... Val Loss: 1.2991\n"
     ]
    },
    {
     "name": "stdout",
     "output_type": "stream",
     "text": [
      "Epoch: 20/20... Step: 2660... Loss: 1.2480... Val Loss: 1.3004\n",
      "Epoch: 20/20... Step: 2670... Loss: 1.2578... Val Loss: 1.2950\n",
      "Epoch: 20/20... Step: 2680... Loss: 1.2496... Val Loss: 1.3006\n",
      "Epoch: 20/20... Step: 2690... Loss: 1.2398... Val Loss: 1.3053\n",
      "Epoch: 20/20... Step: 2700... Loss: 1.2546... Val Loss: 1.2948\n",
      "Epoch: 20/20... Step: 2710... Loss: 1.2288... Val Loss: 1.2984\n",
      "Epoch: 20/20... Step: 2720... Loss: 1.2261... Val Loss: 1.2986\n",
      "Epoch: 20/20... Step: 2730... Loss: 1.2130... Val Loss: 1.2980\n",
      "Epoch: 20/20... Step: 2740... Loss: 1.2144... Val Loss: 1.2994\n",
      "Epoch: 20/20... Step: 2750... Loss: 1.2255... Val Loss: 1.2940\n",
      "Epoch: 20/20... Step: 2760... Loss: 1.2110... Val Loss: 1.2985\n",
      "Epoch: 20/20... Step: 2770... Loss: 1.2563... Val Loss: 1.2938\n",
      "Epoch: 20/20... Step: 2780... Loss: 1.2792... Val Loss: 1.2946\n"
     ]
    }
   ],
   "source": [
    "batch_size = 128\n",
    "seq_length = 100\n",
    "n_epochs =  20# start small if you are just testing initial behavior\n",
    "\n",
    "# train the model\n",
    "train(net, encoded, epochs=n_epochs, batch_size=batch_size, seq_length=seq_length, lr=0.001, print_every=10)"
   ]
  },
  {
   "cell_type": "markdown",
   "metadata": {},
   "source": [
    "## Getting the best model\n",
    "\n",
    "To set your hyperparameters to get the best performance, you'll want to watch the training and validation losses. If your training loss is much lower than the validation loss, you're overfitting. Increase regularization (more dropout) or use a smaller network. If the training and validation losses are close, you're underfitting so you can increase the size of the network."
   ]
  },
  {
   "cell_type": "markdown",
   "metadata": {},
   "source": [
    "## Hyperparameters\n",
    "\n",
    "Here are the hyperparameters for the network.\n",
    "\n",
    "In defining the model:\n",
    "* `n_hidden` - The number of units in the hidden layers.\n",
    "* `n_layers` - Number of hidden LSTM layers to use.\n",
    "\n",
    "We assume that dropout probability and learning rate will be kept at the default, in this example.\n",
    "\n",
    "And in training:\n",
    "* `batch_size` - Number of sequences running through the network in one pass.\n",
    "* `seq_length` - Number of characters in the sequence the network is trained on. Larger is better typically, the network will learn more long range dependencies. But it takes longer to train. 100 is typically a good number here.\n",
    "* `lr` - Learning rate for training\n",
    "\n",
    "Here's some good advice from Andrej Karpathy on training the network. I'm going to copy it in here for your benefit, but also link to [where it originally came from](https://github.com/karpathy/char-rnn#tips-and-tricks).\n",
    "\n",
    "> ## Tips and Tricks\n",
    "\n",
    ">### Monitoring Validation Loss vs. Training Loss\n",
    ">If you're somewhat new to Machine Learning or Neural Networks it can take a bit of expertise to get good models. The most important quantity to keep track of is the difference between your training loss (printed during training) and the validation loss (printed once in a while when the RNN is run on the validation data (by default every 1000 iterations)). In particular:\n",
    "\n",
    "> - If your training loss is much lower than validation loss then this means the network might be **overfitting**. Solutions to this are to decrease your network size, or to increase dropout. For example you could try dropout of 0.5 and so on.\n",
    "> - If your training/validation loss are about equal then your model is **underfitting**. Increase the size of your model (either number of layers or the raw number of neurons per layer)\n",
    "\n",
    "> ### Approximate number of parameters\n",
    "\n",
    "> The two most important parameters that control the model are `n_hidden` and `n_layers`. I would advise that you always use `n_layers` of either 2/3. The `n_hidden` can be adjusted based on how much data you have. The two important quantities to keep track of here are:\n",
    "\n",
    "> - The number of parameters in your model. This is printed when you start training.\n",
    "> - The size of your dataset. 1MB file is approximately 1 million characters.\n",
    "\n",
    ">These two should be about the same order of magnitude. It's a little tricky to tell. Here are some examples:\n",
    "\n",
    "> - I have a 100MB dataset and I'm using the default parameter settings (which currently print 150K parameters). My data size is significantly larger (100 mil >> 0.15 mil), so I expect to heavily underfit. I am thinking I can comfortably afford to make `n_hidden` larger.\n",
    "> - I have a 10MB dataset and running a 10 million parameter model. I'm slightly nervous and I'm carefully monitoring my validation loss. If it's larger than my training loss then I may want to try to increase dropout a bit and see if that helps the validation loss.\n",
    "\n",
    "> ### Best models strategy\n",
    "\n",
    ">The winning strategy to obtaining very good models (if you have the compute time) is to always err on making the network larger (as large as you're willing to wait for it to compute) and then try different dropout values (between 0,1). Whatever model has the best validation performance (the loss, written in the checkpoint filename, low is good) is the one you should use in the end.\n",
    "\n",
    ">It is very common in deep learning to run many different models with many different hyperparameter settings, and in the end take whatever checkpoint gave the best validation performance.\n",
    "\n",
    ">By the way, the size of your training and validation splits are also parameters. Make sure you have a decent amount of data in your validation set or otherwise the validation performance will be noisy and not very informative."
   ]
  },
  {
   "cell_type": "markdown",
   "metadata": {},
   "source": [
    "## Checkpoint\n",
    "\n",
    "After training, we'll save the model so we can load it again later if we need too. Here I'm saving the parameters needed to create the same architecture, the hidden layer hyperparameters and the text characters."
   ]
  },
  {
   "cell_type": "code",
   "execution_count": 24,
   "metadata": {},
   "outputs": [],
   "source": [
    "# change the name, for saving multiple files\n",
    "model_name = 'rnn_x_epoch.net'\n",
    "\n",
    "checkpoint = {'n_hidden': net.n_hidden,\n",
    "              'n_layers': net.n_layers,\n",
    "              'state_dict': net.state_dict(),\n",
    "              'tokens': net.chars}\n",
    "\n",
    "with open(model_name, 'wb') as f:\n",
    "    torch.save(checkpoint, f)"
   ]
  },
  {
   "cell_type": "markdown",
   "metadata": {},
   "source": [
    "---\n",
    "## Making Predictions\n",
    "\n",
    "Now that the model is trained, we'll want to sample from it and make predictions about next characters! To sample, we pass in a character and have the network predict the next character. Then we take that character, pass it back in, and get another predicted character. Just keep doing this and you'll generate a bunch of text!\n",
    "\n",
    "### A note on the `predict`  function\n",
    "\n",
    "The output of our RNN is from a fully-connected layer and it outputs a **distribution of next-character scores**.\n",
    "\n",
    "> To actually get the next character, we apply a softmax function, which gives us a *probability* distribution that we can then sample to predict the next character.\n",
    "\n",
    "### Top K sampling\n",
    "\n",
    "Our predictions come from a categorical probability distribution over all the possible characters. We can make the sample text and make it more reasonable to handle (with less variables) by only considering some $K$ most probable characters. This will prevent the network from giving us completely absurd characters while allowing it to introduce some noise and randomness into the sampled text. Read more about [topk, here](https://pytorch.org/docs/stable/torch.html#torch.topk).\n"
   ]
  },
  {
   "cell_type": "code",
   "execution_count": 25,
   "metadata": {},
   "outputs": [],
   "source": [
    "def predict(net, char, h=None, top_k=None):\n",
    "        ''' Given a character, predict the next character.\n",
    "            Returns the predicted character and the hidden state.\n",
    "        '''\n",
    "        \n",
    "        # tensor inputs\n",
    "        x = np.array([[net.char2int[char]]])\n",
    "        x = one_hot_encode(x, len(net.chars))\n",
    "        inputs = torch.from_numpy(x)\n",
    "        \n",
    "        if(train_on_gpu):\n",
    "            inputs = inputs.cuda()\n",
    "        \n",
    "        # detach hidden state from history\n",
    "        h = tuple([each.data for each in h])\n",
    "        # get the output of the model\n",
    "        out, h = net(inputs, h)\n",
    "\n",
    "        # get the character probabilities\n",
    "        p = F.softmax(out, dim=1).data\n",
    "        if(train_on_gpu):\n",
    "            p = p.cpu() # move to cpu\n",
    "        \n",
    "        # get top characters\n",
    "        if top_k is None:\n",
    "            top_ch = np.arange(len(net.chars))\n",
    "        else:\n",
    "            p, top_ch = p.topk(top_k)\n",
    "            top_ch = top_ch.numpy().squeeze()\n",
    "        \n",
    "        # select the likely next character with some element of randomness\n",
    "        p = p.numpy().squeeze()\n",
    "        char = np.random.choice(top_ch, p=p/p.sum())\n",
    "        \n",
    "        # return the encoded value of the predicted char and the hidden state\n",
    "        return net.int2char[char], h"
   ]
  },
  {
   "cell_type": "markdown",
   "metadata": {},
   "source": [
    "### Priming and generating text \n",
    "\n",
    "Typically you'll want to prime the network so you can build up a hidden state. Otherwise the network will start out generating characters at random. In general the first bunch of characters will be a little rough since it hasn't built up a long history of characters to predict from."
   ]
  },
  {
   "cell_type": "code",
   "execution_count": 26,
   "metadata": {},
   "outputs": [],
   "source": [
    "def sample(net, size, prime='The', top_k=None):\n",
    "        \n",
    "    if(train_on_gpu):\n",
    "        net.cuda()\n",
    "    else:\n",
    "        net.cpu()\n",
    "    \n",
    "    net.eval() # eval mode\n",
    "    \n",
    "    # First off, run through the prime characters\n",
    "    chars = [ch for ch in prime]\n",
    "    h = net.init_hidden(1)\n",
    "    for ch in prime:\n",
    "        char, h = predict(net, ch, h, top_k=top_k)\n",
    "\n",
    "    chars.append(char)\n",
    "    \n",
    "    # Now pass in the previous character and get a new one\n",
    "    for ii in range(size):\n",
    "        char, h = predict(net, chars[-1], h, top_k=top_k)\n",
    "        chars.append(char)\n",
    "\n",
    "    return ''.join(chars)"
   ]
  },
  {
   "cell_type": "code",
   "execution_count": 27,
   "metadata": {},
   "outputs": [
    {
     "name": "stdout",
     "output_type": "stream",
     "text": [
      "Anna. He felt all her first, and a step he wanted to have answered\n",
      "the marshal of\n",
      "his best that the sight of the\n",
      "stupid of\n",
      "agrees of them the postion was not because it\n",
      "could be through the strange of that son's tire the\n",
      "same strange which to her share, and, and to have had seen all her singly to still mee the study, that she was searing always beginning to tell the colonel, through the first open agreeable face to the face of heart. Then the same would had been drinking off. The side, and a little-face with his command and convinced the man. He\n",
      "was thinking\n",
      "with his face.\n",
      "\n",
      "\"You won't say to you, but I can be to take the more.\"\n",
      "\n",
      "\"Oh, yes!\"\n",
      "Stepan Arkadyevitch should not be to go on too, and who had been a steps about it to the satiof.\n",
      "\n",
      "The particularly common sawing his heart and saw her, and that they had\n",
      "not all her eyes said: \"All these wonders were the barrilas of her more.\"\n",
      "\n",
      "\"All many cares they say that you want?\" she said, \"always time I had been all the\n",
      "seet and so and meant.\"\n",
      "\n",
      "\"I s\n"
     ]
    }
   ],
   "source": [
    "print(sample(net, 1000, prime='Anna', top_k=5))"
   ]
  },
  {
   "cell_type": "markdown",
   "metadata": {},
   "source": [
    "## Loading a checkpoint"
   ]
  },
  {
   "cell_type": "code",
   "execution_count": 28,
   "metadata": {},
   "outputs": [
    {
     "data": {
      "text/plain": [
       "<All keys matched successfully>"
      ]
     },
     "execution_count": 28,
     "metadata": {},
     "output_type": "execute_result"
    }
   ],
   "source": [
    "# Here we have loaded in a model that trained over 20 epochs `rnn_20_epoch.net`\n",
    "with open('rnn_x_epoch.net', 'rb') as f:\n",
    "    checkpoint = torch.load(f)\n",
    "    \n",
    "loaded = CharRNN(checkpoint['tokens'], n_hidden=checkpoint['n_hidden'], n_layers=checkpoint['n_layers'])\n",
    "loaded.load_state_dict(checkpoint['state_dict'])"
   ]
  },
  {
   "cell_type": "code",
   "execution_count": 29,
   "metadata": {},
   "outputs": [
    {
     "name": "stdout",
     "output_type": "stream",
     "text": [
      "And Levin said in his stidy for the fatter to the most change of still, to him, and how all the patient started as she saw that it was not as a since he\n",
      "had been such a sun of the face was a forest that he would have that their\n",
      "hand hands at alternate without astention and a long while at that secretary he had\n",
      "already begun that he\n",
      "was not sure to dinner, and there was no love to the children who had been said\n",
      "another pretty fact. And the southere, whom he was beginning to speak to Levin in a time, took into the\n",
      "place of true, she stopped\n",
      "in her face and whom he had not cared for the secretary house over\n",
      "their place. Alexey Alexandrovitch had been thinking to\n",
      "him. And all had all the same talking of herself in the sales and so as to be\n",
      "surprised all the fivituously of the frash arr to them in the sounds of the\n",
      "sight of hard before him and the simple and missakes in his hands one with him, but he could not care to see his shells.\n",
      "\n",
      "\"Well, all that is she has been seen to\n",
      "see them in that meaning of their marry to him to have a secrets white mush the children, and, then an evening of her\n",
      "mother's same. It's no servant of\n",
      "anster, and a portrait of that professors, it was in the prince was not all had ceased to be sure it\n",
      "was\n",
      "not a peopon of\n",
      "the sight of them.\"\n",
      "\n",
      "\"Oh, no, I was standing to her,\" thought Levin.\n",
      "\n",
      "\"I should go to him.\"\n",
      "\n",
      "\"And I'll be the strong way,\" said the princips, who came in to see his steps with a little\n",
      "feeling of hands. \"What have you think in it!\" said Sergey Ivanovitch herself, \"that if they can't speak of himself,\" she said, and this struck he could not come to his father.\n",
      "\n",
      "\"Well, that's the measing the princess, and I'll say the comoloms, and I should be the point of the secination, and how see the minutes they all ready to be done on myself; but I don't want to be in the pate. And won't you were\n",
      "not a single start. A principle on those parts of memory were. It's not to bring him to make it about it in the chail, and\n",
      "the district of\n",
      "the same astick of\n",
      "the sous \n"
     ]
    }
   ],
   "source": [
    "# Sample using a loaded model\n",
    "print(sample(loaded, 2000, top_k=5, prime=\"And Levin said\"))"
   ]
  },
  {
   "cell_type": "code",
   "execution_count": null,
   "metadata": {
    "collapsed": true
   },
   "outputs": [],
   "source": []
  }
 ],
 "metadata": {
  "kernelspec": {
   "display_name": "Python 3",
   "language": "python",
   "name": "python3"
  },
  "language_info": {
   "codemirror_mode": {
    "name": "ipython",
    "version": 3
   },
   "file_extension": ".py",
   "mimetype": "text/x-python",
   "name": "python",
   "nbconvert_exporter": "python",
   "pygments_lexer": "ipython3",
   "version": "3.5.6"
  }
 },
 "nbformat": 4,
 "nbformat_minor": 2
}
